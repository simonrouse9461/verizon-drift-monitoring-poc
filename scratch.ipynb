{
 "cells": [
  {
   "cell_type": "code",
   "execution_count": 1,
   "metadata": {
    "collapsed": true,
    "ExecuteTime": {
     "end_time": "2023-06-13T23:35:37.302346Z",
     "start_time": "2023-06-13T23:35:33.404Z"
    }
   },
   "outputs": [],
   "source": [
    "from src.metrics import MetricRegistry\n",
    "\n",
    "import dotenv\n",
    "dotenv.load_dotenv()\n",
    "\n",
    "import os\n",
    "import sys\n",
    "import pandas as pd\n",
    "from sqlalchemy import create_engine\n",
    "from pyspark.sql import SparkSession"
   ]
  },
  {
   "cell_type": "code",
   "execution_count": 2,
   "outputs": [],
   "source": [
    "POSTGRES_PASSWORD = os.environ[\"POSTGRES_PASSWORD\"]\n",
    "POSTGRES_USERNAME = \"postgres\"\n",
    "POSTGRES_HOSTNAME = \"localhost\"\n",
    "POSTGRES_PORT = \"5432\"\n",
    "POSTGRES_URL = f\"postgresql+psycopg://{POSTGRES_USERNAME}:{POSTGRES_PASSWORD}@{POSTGRES_HOSTNAME}:{POSTGRES_PORT}/\""
   ],
   "metadata": {
    "collapsed": false,
    "ExecuteTime": {
     "end_time": "2023-06-12T22:50:25.091570Z",
     "start_time": "2023-06-12T22:50:25.085677Z"
    }
   }
  },
  {
   "cell_type": "code",
   "execution_count": 3,
   "outputs": [
    {
     "ename": "OperationalError",
     "evalue": "(psycopg.OperationalError) connection failed: :1), port 5432 failed: Connection refused\n\tIs the server running on that host and accepting TCP/IP connections?\nconnection to server at \"localhost\" (127.0.0.1), port 5432 failed: Connection refused\n\tIs the server running on that host and accepting TCP/IP connections?\n(Background on this error at: https://sqlalche.me/e/20/e3q8)",
     "output_type": "error",
     "traceback": [
      "\u001B[0;31m---------------------------------------------------------------------------\u001B[0m",
      "\u001B[0;31mOperationalError\u001B[0m                          Traceback (most recent call last)",
      "File \u001B[0;32m/opt/homebrew/anaconda3/lib/python3.10/site-packages/sqlalchemy/engine/base.py:145\u001B[0m, in \u001B[0;36mConnection.__init__\u001B[0;34m(self, engine, connection, _has_events, _allow_revalidate, _allow_autobegin)\u001B[0m\n\u001B[1;32m    144\u001B[0m \u001B[38;5;28;01mtry\u001B[39;00m:\n\u001B[0;32m--> 145\u001B[0m     \u001B[38;5;28mself\u001B[39m\u001B[38;5;241m.\u001B[39m_dbapi_connection \u001B[38;5;241m=\u001B[39m \u001B[43mengine\u001B[49m\u001B[38;5;241;43m.\u001B[39;49m\u001B[43mraw_connection\u001B[49m\u001B[43m(\u001B[49m\u001B[43m)\u001B[49m\n\u001B[1;32m    146\u001B[0m \u001B[38;5;28;01mexcept\u001B[39;00m dialect\u001B[38;5;241m.\u001B[39mloaded_dbapi\u001B[38;5;241m.\u001B[39mError \u001B[38;5;28;01mas\u001B[39;00m err:\n",
      "File \u001B[0;32m/opt/homebrew/anaconda3/lib/python3.10/site-packages/sqlalchemy/engine/base.py:3293\u001B[0m, in \u001B[0;36mEngine.raw_connection\u001B[0;34m(self)\u001B[0m\n\u001B[1;32m   3272\u001B[0m \u001B[38;5;250m\u001B[39m\u001B[38;5;124;03m\"\"\"Return a \"raw\" DBAPI connection from the connection pool.\u001B[39;00m\n\u001B[1;32m   3273\u001B[0m \n\u001B[1;32m   3274\u001B[0m \u001B[38;5;124;03mThe returned object is a proxied version of the DBAPI\u001B[39;00m\n\u001B[0;32m   (...)\u001B[0m\n\u001B[1;32m   3291\u001B[0m \n\u001B[1;32m   3292\u001B[0m \u001B[38;5;124;03m\"\"\"\u001B[39;00m\n\u001B[0;32m-> 3293\u001B[0m \u001B[38;5;28;01mreturn\u001B[39;00m \u001B[38;5;28;43mself\u001B[39;49m\u001B[38;5;241;43m.\u001B[39;49m\u001B[43mpool\u001B[49m\u001B[38;5;241;43m.\u001B[39;49m\u001B[43mconnect\u001B[49m\u001B[43m(\u001B[49m\u001B[43m)\u001B[49m\n",
      "File \u001B[0;32m/opt/homebrew/anaconda3/lib/python3.10/site-packages/sqlalchemy/pool/base.py:452\u001B[0m, in \u001B[0;36mPool.connect\u001B[0;34m(self)\u001B[0m\n\u001B[1;32m    445\u001B[0m \u001B[38;5;250m\u001B[39m\u001B[38;5;124;03m\"\"\"Return a DBAPI connection from the pool.\u001B[39;00m\n\u001B[1;32m    446\u001B[0m \n\u001B[1;32m    447\u001B[0m \u001B[38;5;124;03mThe connection is instrumented such that when its\u001B[39;00m\n\u001B[0;32m   (...)\u001B[0m\n\u001B[1;32m    450\u001B[0m \n\u001B[1;32m    451\u001B[0m \u001B[38;5;124;03m\"\"\"\u001B[39;00m\n\u001B[0;32m--> 452\u001B[0m \u001B[38;5;28;01mreturn\u001B[39;00m \u001B[43m_ConnectionFairy\u001B[49m\u001B[38;5;241;43m.\u001B[39;49m\u001B[43m_checkout\u001B[49m\u001B[43m(\u001B[49m\u001B[38;5;28;43mself\u001B[39;49m\u001B[43m)\u001B[49m\n",
      "File \u001B[0;32m/opt/homebrew/anaconda3/lib/python3.10/site-packages/sqlalchemy/pool/base.py:1268\u001B[0m, in \u001B[0;36m_ConnectionFairy._checkout\u001B[0;34m(cls, pool, threadconns, fairy)\u001B[0m\n\u001B[1;32m   1267\u001B[0m \u001B[38;5;28;01mif\u001B[39;00m \u001B[38;5;129;01mnot\u001B[39;00m fairy:\n\u001B[0;32m-> 1268\u001B[0m     fairy \u001B[38;5;241m=\u001B[39m \u001B[43m_ConnectionRecord\u001B[49m\u001B[38;5;241;43m.\u001B[39;49m\u001B[43mcheckout\u001B[49m\u001B[43m(\u001B[49m\u001B[43mpool\u001B[49m\u001B[43m)\u001B[49m\n\u001B[1;32m   1270\u001B[0m     \u001B[38;5;28;01mif\u001B[39;00m threadconns \u001B[38;5;129;01mis\u001B[39;00m \u001B[38;5;129;01mnot\u001B[39;00m \u001B[38;5;28;01mNone\u001B[39;00m:\n",
      "File \u001B[0;32m/opt/homebrew/anaconda3/lib/python3.10/site-packages/sqlalchemy/pool/base.py:716\u001B[0m, in \u001B[0;36m_ConnectionRecord.checkout\u001B[0;34m(cls, pool)\u001B[0m\n\u001B[1;32m    715\u001B[0m \u001B[38;5;28;01melse\u001B[39;00m:\n\u001B[0;32m--> 716\u001B[0m     rec \u001B[38;5;241m=\u001B[39m \u001B[43mpool\u001B[49m\u001B[38;5;241;43m.\u001B[39;49m\u001B[43m_do_get\u001B[49m\u001B[43m(\u001B[49m\u001B[43m)\u001B[49m\n\u001B[1;32m    718\u001B[0m \u001B[38;5;28;01mtry\u001B[39;00m:\n",
      "File \u001B[0;32m/opt/homebrew/anaconda3/lib/python3.10/site-packages/sqlalchemy/pool/impl.py:168\u001B[0m, in \u001B[0;36mQueuePool._do_get\u001B[0;34m(self)\u001B[0m\n\u001B[1;32m    167\u001B[0m \u001B[38;5;28;01mexcept\u001B[39;00m:\n\u001B[0;32m--> 168\u001B[0m     \u001B[38;5;28;01mwith\u001B[39;00m util\u001B[38;5;241m.\u001B[39msafe_reraise():\n\u001B[1;32m    169\u001B[0m         \u001B[38;5;28mself\u001B[39m\u001B[38;5;241m.\u001B[39m_dec_overflow()\n",
      "File \u001B[0;32m/opt/homebrew/anaconda3/lib/python3.10/site-packages/sqlalchemy/util/langhelpers.py:147\u001B[0m, in \u001B[0;36msafe_reraise.__exit__\u001B[0;34m(self, type_, value, traceback)\u001B[0m\n\u001B[1;32m    146\u001B[0m     \u001B[38;5;28mself\u001B[39m\u001B[38;5;241m.\u001B[39m_exc_info \u001B[38;5;241m=\u001B[39m \u001B[38;5;28;01mNone\u001B[39;00m  \u001B[38;5;66;03m# remove potential circular references\u001B[39;00m\n\u001B[0;32m--> 147\u001B[0m     \u001B[38;5;28;01mraise\u001B[39;00m exc_value\u001B[38;5;241m.\u001B[39mwith_traceback(exc_tb)\n\u001B[1;32m    148\u001B[0m \u001B[38;5;28;01melse\u001B[39;00m:\n",
      "File \u001B[0;32m/opt/homebrew/anaconda3/lib/python3.10/site-packages/sqlalchemy/pool/impl.py:166\u001B[0m, in \u001B[0;36mQueuePool._do_get\u001B[0;34m(self)\u001B[0m\n\u001B[1;32m    165\u001B[0m \u001B[38;5;28;01mtry\u001B[39;00m:\n\u001B[0;32m--> 166\u001B[0m     \u001B[38;5;28;01mreturn\u001B[39;00m \u001B[38;5;28;43mself\u001B[39;49m\u001B[38;5;241;43m.\u001B[39;49m\u001B[43m_create_connection\u001B[49m\u001B[43m(\u001B[49m\u001B[43m)\u001B[49m\n\u001B[1;32m    167\u001B[0m \u001B[38;5;28;01mexcept\u001B[39;00m:\n",
      "File \u001B[0;32m/opt/homebrew/anaconda3/lib/python3.10/site-packages/sqlalchemy/pool/base.py:393\u001B[0m, in \u001B[0;36mPool._create_connection\u001B[0;34m(self)\u001B[0m\n\u001B[1;32m    391\u001B[0m \u001B[38;5;250m\u001B[39m\u001B[38;5;124;03m\"\"\"Called by subclasses to create a new ConnectionRecord.\"\"\"\u001B[39;00m\n\u001B[0;32m--> 393\u001B[0m \u001B[38;5;28;01mreturn\u001B[39;00m \u001B[43m_ConnectionRecord\u001B[49m\u001B[43m(\u001B[49m\u001B[38;5;28;43mself\u001B[39;49m\u001B[43m)\u001B[49m\n",
      "File \u001B[0;32m/opt/homebrew/anaconda3/lib/python3.10/site-packages/sqlalchemy/pool/base.py:678\u001B[0m, in \u001B[0;36m_ConnectionRecord.__init__\u001B[0;34m(self, pool, connect)\u001B[0m\n\u001B[1;32m    677\u001B[0m \u001B[38;5;28;01mif\u001B[39;00m connect:\n\u001B[0;32m--> 678\u001B[0m     \u001B[38;5;28;43mself\u001B[39;49m\u001B[38;5;241;43m.\u001B[39;49m\u001B[43m__connect\u001B[49m\u001B[43m(\u001B[49m\u001B[43m)\u001B[49m\n\u001B[1;32m    679\u001B[0m \u001B[38;5;28mself\u001B[39m\u001B[38;5;241m.\u001B[39mfinalize_callback \u001B[38;5;241m=\u001B[39m deque()\n",
      "File \u001B[0;32m/opt/homebrew/anaconda3/lib/python3.10/site-packages/sqlalchemy/pool/base.py:902\u001B[0m, in \u001B[0;36m_ConnectionRecord.__connect\u001B[0;34m(self)\u001B[0m\n\u001B[1;32m    901\u001B[0m \u001B[38;5;28;01mexcept\u001B[39;00m \u001B[38;5;167;01mBaseException\u001B[39;00m \u001B[38;5;28;01mas\u001B[39;00m e:\n\u001B[0;32m--> 902\u001B[0m     \u001B[38;5;28;01mwith\u001B[39;00m util\u001B[38;5;241m.\u001B[39msafe_reraise():\n\u001B[1;32m    903\u001B[0m         pool\u001B[38;5;241m.\u001B[39mlogger\u001B[38;5;241m.\u001B[39mdebug(\u001B[38;5;124m\"\u001B[39m\u001B[38;5;124mError on connect(): \u001B[39m\u001B[38;5;132;01m%s\u001B[39;00m\u001B[38;5;124m\"\u001B[39m, e)\n",
      "File \u001B[0;32m/opt/homebrew/anaconda3/lib/python3.10/site-packages/sqlalchemy/util/langhelpers.py:147\u001B[0m, in \u001B[0;36msafe_reraise.__exit__\u001B[0;34m(self, type_, value, traceback)\u001B[0m\n\u001B[1;32m    146\u001B[0m     \u001B[38;5;28mself\u001B[39m\u001B[38;5;241m.\u001B[39m_exc_info \u001B[38;5;241m=\u001B[39m \u001B[38;5;28;01mNone\u001B[39;00m  \u001B[38;5;66;03m# remove potential circular references\u001B[39;00m\n\u001B[0;32m--> 147\u001B[0m     \u001B[38;5;28;01mraise\u001B[39;00m exc_value\u001B[38;5;241m.\u001B[39mwith_traceback(exc_tb)\n\u001B[1;32m    148\u001B[0m \u001B[38;5;28;01melse\u001B[39;00m:\n",
      "File \u001B[0;32m/opt/homebrew/anaconda3/lib/python3.10/site-packages/sqlalchemy/pool/base.py:898\u001B[0m, in \u001B[0;36m_ConnectionRecord.__connect\u001B[0;34m(self)\u001B[0m\n\u001B[1;32m    897\u001B[0m \u001B[38;5;28mself\u001B[39m\u001B[38;5;241m.\u001B[39mstarttime \u001B[38;5;241m=\u001B[39m time\u001B[38;5;241m.\u001B[39mtime()\n\u001B[0;32m--> 898\u001B[0m \u001B[38;5;28mself\u001B[39m\u001B[38;5;241m.\u001B[39mdbapi_connection \u001B[38;5;241m=\u001B[39m connection \u001B[38;5;241m=\u001B[39m \u001B[43mpool\u001B[49m\u001B[38;5;241;43m.\u001B[39;49m\u001B[43m_invoke_creator\u001B[49m\u001B[43m(\u001B[49m\u001B[38;5;28;43mself\u001B[39;49m\u001B[43m)\u001B[49m\n\u001B[1;32m    899\u001B[0m pool\u001B[38;5;241m.\u001B[39mlogger\u001B[38;5;241m.\u001B[39mdebug(\u001B[38;5;124m\"\u001B[39m\u001B[38;5;124mCreated new connection \u001B[39m\u001B[38;5;132;01m%r\u001B[39;00m\u001B[38;5;124m\"\u001B[39m, connection)\n",
      "File \u001B[0;32m/opt/homebrew/anaconda3/lib/python3.10/site-packages/sqlalchemy/engine/create.py:637\u001B[0m, in \u001B[0;36mcreate_engine.<locals>.connect\u001B[0;34m(connection_record)\u001B[0m\n\u001B[1;32m    635\u001B[0m             \u001B[38;5;28;01mreturn\u001B[39;00m connection\n\u001B[0;32m--> 637\u001B[0m \u001B[38;5;28;01mreturn\u001B[39;00m \u001B[43mdialect\u001B[49m\u001B[38;5;241;43m.\u001B[39;49m\u001B[43mconnect\u001B[49m\u001B[43m(\u001B[49m\u001B[38;5;241;43m*\u001B[39;49m\u001B[43mcargs\u001B[49m\u001B[43m,\u001B[49m\u001B[43m \u001B[49m\u001B[38;5;241;43m*\u001B[39;49m\u001B[38;5;241;43m*\u001B[39;49m\u001B[43mcparams\u001B[49m\u001B[43m)\u001B[49m\n",
      "File \u001B[0;32m/opt/homebrew/anaconda3/lib/python3.10/site-packages/sqlalchemy/engine/default.py:616\u001B[0m, in \u001B[0;36mDefaultDialect.connect\u001B[0;34m(self, *cargs, **cparams)\u001B[0m\n\u001B[1;32m    614\u001B[0m \u001B[38;5;28;01mdef\u001B[39;00m \u001B[38;5;21mconnect\u001B[39m(\u001B[38;5;28mself\u001B[39m, \u001B[38;5;241m*\u001B[39mcargs, \u001B[38;5;241m*\u001B[39m\u001B[38;5;241m*\u001B[39mcparams):\n\u001B[1;32m    615\u001B[0m     \u001B[38;5;66;03m# inherits the docstring from interfaces.Dialect.connect\u001B[39;00m\n\u001B[0;32m--> 616\u001B[0m     \u001B[38;5;28;01mreturn\u001B[39;00m \u001B[38;5;28;43mself\u001B[39;49m\u001B[38;5;241;43m.\u001B[39;49m\u001B[43mloaded_dbapi\u001B[49m\u001B[38;5;241;43m.\u001B[39;49m\u001B[43mconnect\u001B[49m\u001B[43m(\u001B[49m\u001B[38;5;241;43m*\u001B[39;49m\u001B[43mcargs\u001B[49m\u001B[43m,\u001B[49m\u001B[43m \u001B[49m\u001B[38;5;241;43m*\u001B[39;49m\u001B[38;5;241;43m*\u001B[39;49m\u001B[43mcparams\u001B[49m\u001B[43m)\u001B[49m\n",
      "File \u001B[0;32m/opt/homebrew/anaconda3/lib/python3.10/site-packages/psycopg/connection.py:728\u001B[0m, in \u001B[0;36mConnection.connect\u001B[0;34m(cls, conninfo, autocommit, prepare_threshold, row_factory, cursor_factory, context, **kwargs)\u001B[0m\n\u001B[1;32m    727\u001B[0m \u001B[38;5;28;01mexcept\u001B[39;00m e\u001B[38;5;241m.\u001B[39m_NO_TRACEBACK \u001B[38;5;28;01mas\u001B[39;00m ex:\n\u001B[0;32m--> 728\u001B[0m     \u001B[38;5;28;01mraise\u001B[39;00m ex\u001B[38;5;241m.\u001B[39mwith_traceback(\u001B[38;5;28;01mNone\u001B[39;00m)\n\u001B[1;32m    730\u001B[0m \u001B[38;5;28;01mif\u001B[39;00m row_factory:\n",
      "\u001B[0;31mOperationalError\u001B[0m: connection failed: :1), port 5432 failed: Connection refused\n\tIs the server running on that host and accepting TCP/IP connections?\nconnection to server at \"localhost\" (127.0.0.1), port 5432 failed: Connection refused\n\tIs the server running on that host and accepting TCP/IP connections?",
      "\nThe above exception was the direct cause of the following exception:\n",
      "\u001B[0;31mOperationalError\u001B[0m                          Traceback (most recent call last)",
      "Cell \u001B[0;32mIn[3], line 2\u001B[0m\n\u001B[1;32m      1\u001B[0m metadata_engine \u001B[38;5;241m=\u001B[39m create_engine(POSTGRES_URL \u001B[38;5;241m+\u001B[39m \u001B[38;5;124m\"\u001B[39m\u001B[38;5;124mpostgres\u001B[39m\u001B[38;5;124m\"\u001B[39m)\n\u001B[0;32m----> 2\u001B[0m \u001B[43mpd\u001B[49m\u001B[38;5;241;43m.\u001B[39;49m\u001B[43mread_sql\u001B[49m\u001B[43m(\u001B[49m\n\u001B[1;32m      3\u001B[0m \u001B[43m    \u001B[49m\u001B[38;5;124;43mf\u001B[39;49m\u001B[38;5;124;43m\"\u001B[39;49m\u001B[38;5;124;43mSELECT * FROM metadata.application_3\u001B[39;49m\u001B[38;5;124;43m\"\u001B[39;49m\u001B[43m,\u001B[49m\n\u001B[1;32m      4\u001B[0m \u001B[43m    \u001B[49m\u001B[43mcon\u001B[49m\u001B[38;5;241;43m=\u001B[39;49m\u001B[43mmetadata_engine\u001B[49m\u001B[43m,\u001B[49m\n\u001B[1;32m      5\u001B[0m \u001B[43m    \u001B[49m\u001B[43mindex_col\u001B[49m\u001B[38;5;241;43m=\u001B[39;49m\u001B[38;5;124;43m\"\u001B[39;49m\u001B[38;5;124;43mmetric_id\u001B[39;49m\u001B[38;5;124;43m\"\u001B[39;49m\u001B[43m,\u001B[49m\n\u001B[1;32m      6\u001B[0m \u001B[43m)\u001B[49m\u001B[38;5;241m.\u001B[39mloc[\u001B[38;5;124m\"\u001B[39m\u001B[38;5;124mmodel_acc\u001B[39m\u001B[38;5;124m\"\u001B[39m]\n",
      "File \u001B[0;32m/opt/homebrew/anaconda3/lib/python3.10/site-packages/pandas/io/sql.py:631\u001B[0m, in \u001B[0;36mread_sql\u001B[0;34m(sql, con, index_col, coerce_float, params, parse_dates, columns, chunksize, dtype_backend, dtype)\u001B[0m\n\u001B[1;32m    628\u001B[0m \u001B[38;5;28;01mif\u001B[39;00m dtype_backend \u001B[38;5;129;01mis\u001B[39;00m lib\u001B[38;5;241m.\u001B[39mno_default:\n\u001B[1;32m    629\u001B[0m     dtype_backend \u001B[38;5;241m=\u001B[39m \u001B[38;5;124m\"\u001B[39m\u001B[38;5;124mnumpy\u001B[39m\u001B[38;5;124m\"\u001B[39m  \u001B[38;5;66;03m# type: ignore[assignment]\u001B[39;00m\n\u001B[0;32m--> 631\u001B[0m \u001B[38;5;28;01mwith\u001B[39;00m \u001B[43mpandasSQL_builder\u001B[49m\u001B[43m(\u001B[49m\u001B[43mcon\u001B[49m\u001B[43m)\u001B[49m \u001B[38;5;28;01mas\u001B[39;00m pandas_sql:\n\u001B[1;32m    632\u001B[0m     \u001B[38;5;28;01mif\u001B[39;00m \u001B[38;5;28misinstance\u001B[39m(pandas_sql, SQLiteDatabase):\n\u001B[1;32m    633\u001B[0m         \u001B[38;5;28;01mreturn\u001B[39;00m pandas_sql\u001B[38;5;241m.\u001B[39mread_query(\n\u001B[1;32m    634\u001B[0m             sql,\n\u001B[1;32m    635\u001B[0m             index_col\u001B[38;5;241m=\u001B[39mindex_col,\n\u001B[0;32m   (...)\u001B[0m\n\u001B[1;32m    641\u001B[0m             dtype\u001B[38;5;241m=\u001B[39mdtype,\n\u001B[1;32m    642\u001B[0m         )\n",
      "File \u001B[0;32m/opt/homebrew/anaconda3/lib/python3.10/site-packages/pandas/io/sql.py:830\u001B[0m, in \u001B[0;36mpandasSQL_builder\u001B[0;34m(con, schema, need_transaction)\u001B[0m\n\u001B[1;32m    827\u001B[0m     \u001B[38;5;28;01mraise\u001B[39;00m \u001B[38;5;167;01mImportError\u001B[39;00m(\u001B[38;5;124m\"\u001B[39m\u001B[38;5;124mUsing URI string without sqlalchemy installed.\u001B[39m\u001B[38;5;124m\"\u001B[39m)\n\u001B[1;32m    829\u001B[0m \u001B[38;5;28;01mif\u001B[39;00m sqlalchemy \u001B[38;5;129;01mis\u001B[39;00m \u001B[38;5;129;01mnot\u001B[39;00m \u001B[38;5;28;01mNone\u001B[39;00m \u001B[38;5;129;01mand\u001B[39;00m \u001B[38;5;28misinstance\u001B[39m(con, (\u001B[38;5;28mstr\u001B[39m, sqlalchemy\u001B[38;5;241m.\u001B[39mengine\u001B[38;5;241m.\u001B[39mConnectable)):\n\u001B[0;32m--> 830\u001B[0m     \u001B[38;5;28;01mreturn\u001B[39;00m \u001B[43mSQLDatabase\u001B[49m\u001B[43m(\u001B[49m\u001B[43mcon\u001B[49m\u001B[43m,\u001B[49m\u001B[43m \u001B[49m\u001B[43mschema\u001B[49m\u001B[43m,\u001B[49m\u001B[43m \u001B[49m\u001B[43mneed_transaction\u001B[49m\u001B[43m)\u001B[49m\n\u001B[1;32m    832\u001B[0m warnings\u001B[38;5;241m.\u001B[39mwarn(\n\u001B[1;32m    833\u001B[0m     \u001B[38;5;124m\"\u001B[39m\u001B[38;5;124mpandas only supports SQLAlchemy connectable (engine/connection) or \u001B[39m\u001B[38;5;124m\"\u001B[39m\n\u001B[1;32m    834\u001B[0m     \u001B[38;5;124m\"\u001B[39m\u001B[38;5;124mdatabase string URI or sqlite3 DBAPI2 connection. Other DBAPI2 \u001B[39m\u001B[38;5;124m\"\u001B[39m\n\u001B[0;32m   (...)\u001B[0m\n\u001B[1;32m    837\u001B[0m     stacklevel\u001B[38;5;241m=\u001B[39mfind_stack_level(),\n\u001B[1;32m    838\u001B[0m )\n\u001B[1;32m    839\u001B[0m \u001B[38;5;28;01mreturn\u001B[39;00m SQLiteDatabase(con)\n",
      "File \u001B[0;32m/opt/homebrew/anaconda3/lib/python3.10/site-packages/pandas/io/sql.py:1537\u001B[0m, in \u001B[0;36mSQLDatabase.__init__\u001B[0;34m(self, con, schema, need_transaction)\u001B[0m\n\u001B[1;32m   1535\u001B[0m     \u001B[38;5;28mself\u001B[39m\u001B[38;5;241m.\u001B[39mexit_stack\u001B[38;5;241m.\u001B[39mcallback(con\u001B[38;5;241m.\u001B[39mdispose)\n\u001B[1;32m   1536\u001B[0m \u001B[38;5;28;01mif\u001B[39;00m \u001B[38;5;28misinstance\u001B[39m(con, Engine):\n\u001B[0;32m-> 1537\u001B[0m     con \u001B[38;5;241m=\u001B[39m \u001B[38;5;28mself\u001B[39m\u001B[38;5;241m.\u001B[39mexit_stack\u001B[38;5;241m.\u001B[39menter_context(\u001B[43mcon\u001B[49m\u001B[38;5;241;43m.\u001B[39;49m\u001B[43mconnect\u001B[49m\u001B[43m(\u001B[49m\u001B[43m)\u001B[49m)\n\u001B[1;32m   1538\u001B[0m \u001B[38;5;28;01mif\u001B[39;00m need_transaction \u001B[38;5;129;01mand\u001B[39;00m \u001B[38;5;129;01mnot\u001B[39;00m con\u001B[38;5;241m.\u001B[39min_transaction():\n\u001B[1;32m   1539\u001B[0m     \u001B[38;5;28mself\u001B[39m\u001B[38;5;241m.\u001B[39mexit_stack\u001B[38;5;241m.\u001B[39menter_context(con\u001B[38;5;241m.\u001B[39mbegin())\n",
      "File \u001B[0;32m/opt/homebrew/anaconda3/lib/python3.10/site-packages/sqlalchemy/engine/base.py:3269\u001B[0m, in \u001B[0;36mEngine.connect\u001B[0;34m(self)\u001B[0m\n\u001B[1;32m   3246\u001B[0m \u001B[38;5;28;01mdef\u001B[39;00m \u001B[38;5;21mconnect\u001B[39m(\u001B[38;5;28mself\u001B[39m) \u001B[38;5;241m-\u001B[39m\u001B[38;5;241m>\u001B[39m Connection:\n\u001B[1;32m   3247\u001B[0m \u001B[38;5;250m    \u001B[39m\u001B[38;5;124;03m\"\"\"Return a new :class:`_engine.Connection` object.\u001B[39;00m\n\u001B[1;32m   3248\u001B[0m \n\u001B[1;32m   3249\u001B[0m \u001B[38;5;124;03m    The :class:`_engine.Connection` acts as a Python context manager, so\u001B[39;00m\n\u001B[0;32m   (...)\u001B[0m\n\u001B[1;32m   3266\u001B[0m \n\u001B[1;32m   3267\u001B[0m \u001B[38;5;124;03m    \"\"\"\u001B[39;00m\n\u001B[0;32m-> 3269\u001B[0m     \u001B[38;5;28;01mreturn\u001B[39;00m \u001B[38;5;28;43mself\u001B[39;49m\u001B[38;5;241;43m.\u001B[39;49m\u001B[43m_connection_cls\u001B[49m\u001B[43m(\u001B[49m\u001B[38;5;28;43mself\u001B[39;49m\u001B[43m)\u001B[49m\n",
      "File \u001B[0;32m/opt/homebrew/anaconda3/lib/python3.10/site-packages/sqlalchemy/engine/base.py:147\u001B[0m, in \u001B[0;36mConnection.__init__\u001B[0;34m(self, engine, connection, _has_events, _allow_revalidate, _allow_autobegin)\u001B[0m\n\u001B[1;32m    145\u001B[0m         \u001B[38;5;28mself\u001B[39m\u001B[38;5;241m.\u001B[39m_dbapi_connection \u001B[38;5;241m=\u001B[39m engine\u001B[38;5;241m.\u001B[39mraw_connection()\n\u001B[1;32m    146\u001B[0m     \u001B[38;5;28;01mexcept\u001B[39;00m dialect\u001B[38;5;241m.\u001B[39mloaded_dbapi\u001B[38;5;241m.\u001B[39mError \u001B[38;5;28;01mas\u001B[39;00m err:\n\u001B[0;32m--> 147\u001B[0m         \u001B[43mConnection\u001B[49m\u001B[38;5;241;43m.\u001B[39;49m\u001B[43m_handle_dbapi_exception_noconnection\u001B[49m\u001B[43m(\u001B[49m\n\u001B[1;32m    148\u001B[0m \u001B[43m            \u001B[49m\u001B[43merr\u001B[49m\u001B[43m,\u001B[49m\u001B[43m \u001B[49m\u001B[43mdialect\u001B[49m\u001B[43m,\u001B[49m\u001B[43m \u001B[49m\u001B[43mengine\u001B[49m\n\u001B[1;32m    149\u001B[0m \u001B[43m        \u001B[49m\u001B[43m)\u001B[49m\n\u001B[1;32m    150\u001B[0m         \u001B[38;5;28;01mraise\u001B[39;00m\n\u001B[1;32m    151\u001B[0m \u001B[38;5;28;01melse\u001B[39;00m:\n",
      "File \u001B[0;32m/opt/homebrew/anaconda3/lib/python3.10/site-packages/sqlalchemy/engine/base.py:2431\u001B[0m, in \u001B[0;36mConnection._handle_dbapi_exception_noconnection\u001B[0;34m(cls, e, dialect, engine, is_disconnect, invalidate_pool_on_disconnect, is_pre_ping)\u001B[0m\n\u001B[1;32m   2429\u001B[0m \u001B[38;5;28;01melif\u001B[39;00m should_wrap:\n\u001B[1;32m   2430\u001B[0m     \u001B[38;5;28;01massert\u001B[39;00m sqlalchemy_exception \u001B[38;5;129;01mis\u001B[39;00m \u001B[38;5;129;01mnot\u001B[39;00m \u001B[38;5;28;01mNone\u001B[39;00m\n\u001B[0;32m-> 2431\u001B[0m     \u001B[38;5;28;01mraise\u001B[39;00m sqlalchemy_exception\u001B[38;5;241m.\u001B[39mwith_traceback(exc_info[\u001B[38;5;241m2\u001B[39m]) \u001B[38;5;28;01mfrom\u001B[39;00m \u001B[38;5;21;01me\u001B[39;00m\n\u001B[1;32m   2432\u001B[0m \u001B[38;5;28;01melse\u001B[39;00m:\n\u001B[1;32m   2433\u001B[0m     \u001B[38;5;28;01massert\u001B[39;00m exc_info[\u001B[38;5;241m1\u001B[39m] \u001B[38;5;129;01mis\u001B[39;00m \u001B[38;5;129;01mnot\u001B[39;00m \u001B[38;5;28;01mNone\u001B[39;00m\n",
      "File \u001B[0;32m/opt/homebrew/anaconda3/lib/python3.10/site-packages/sqlalchemy/engine/base.py:145\u001B[0m, in \u001B[0;36mConnection.__init__\u001B[0;34m(self, engine, connection, _has_events, _allow_revalidate, _allow_autobegin)\u001B[0m\n\u001B[1;32m    143\u001B[0m \u001B[38;5;28;01mif\u001B[39;00m connection \u001B[38;5;129;01mis\u001B[39;00m \u001B[38;5;28;01mNone\u001B[39;00m:\n\u001B[1;32m    144\u001B[0m     \u001B[38;5;28;01mtry\u001B[39;00m:\n\u001B[0;32m--> 145\u001B[0m         \u001B[38;5;28mself\u001B[39m\u001B[38;5;241m.\u001B[39m_dbapi_connection \u001B[38;5;241m=\u001B[39m \u001B[43mengine\u001B[49m\u001B[38;5;241;43m.\u001B[39;49m\u001B[43mraw_connection\u001B[49m\u001B[43m(\u001B[49m\u001B[43m)\u001B[49m\n\u001B[1;32m    146\u001B[0m     \u001B[38;5;28;01mexcept\u001B[39;00m dialect\u001B[38;5;241m.\u001B[39mloaded_dbapi\u001B[38;5;241m.\u001B[39mError \u001B[38;5;28;01mas\u001B[39;00m err:\n\u001B[1;32m    147\u001B[0m         Connection\u001B[38;5;241m.\u001B[39m_handle_dbapi_exception_noconnection(\n\u001B[1;32m    148\u001B[0m             err, dialect, engine\n\u001B[1;32m    149\u001B[0m         )\n",
      "File \u001B[0;32m/opt/homebrew/anaconda3/lib/python3.10/site-packages/sqlalchemy/engine/base.py:3293\u001B[0m, in \u001B[0;36mEngine.raw_connection\u001B[0;34m(self)\u001B[0m\n\u001B[1;32m   3271\u001B[0m \u001B[38;5;28;01mdef\u001B[39;00m \u001B[38;5;21mraw_connection\u001B[39m(\u001B[38;5;28mself\u001B[39m) \u001B[38;5;241m-\u001B[39m\u001B[38;5;241m>\u001B[39m PoolProxiedConnection:\n\u001B[1;32m   3272\u001B[0m \u001B[38;5;250m    \u001B[39m\u001B[38;5;124;03m\"\"\"Return a \"raw\" DBAPI connection from the connection pool.\u001B[39;00m\n\u001B[1;32m   3273\u001B[0m \n\u001B[1;32m   3274\u001B[0m \u001B[38;5;124;03m    The returned object is a proxied version of the DBAPI\u001B[39;00m\n\u001B[0;32m   (...)\u001B[0m\n\u001B[1;32m   3291\u001B[0m \n\u001B[1;32m   3292\u001B[0m \u001B[38;5;124;03m    \"\"\"\u001B[39;00m\n\u001B[0;32m-> 3293\u001B[0m     \u001B[38;5;28;01mreturn\u001B[39;00m \u001B[38;5;28;43mself\u001B[39;49m\u001B[38;5;241;43m.\u001B[39;49m\u001B[43mpool\u001B[49m\u001B[38;5;241;43m.\u001B[39;49m\u001B[43mconnect\u001B[49m\u001B[43m(\u001B[49m\u001B[43m)\u001B[49m\n",
      "File \u001B[0;32m/opt/homebrew/anaconda3/lib/python3.10/site-packages/sqlalchemy/pool/base.py:452\u001B[0m, in \u001B[0;36mPool.connect\u001B[0;34m(self)\u001B[0m\n\u001B[1;32m    444\u001B[0m \u001B[38;5;28;01mdef\u001B[39;00m \u001B[38;5;21mconnect\u001B[39m(\u001B[38;5;28mself\u001B[39m) \u001B[38;5;241m-\u001B[39m\u001B[38;5;241m>\u001B[39m PoolProxiedConnection:\n\u001B[1;32m    445\u001B[0m \u001B[38;5;250m    \u001B[39m\u001B[38;5;124;03m\"\"\"Return a DBAPI connection from the pool.\u001B[39;00m\n\u001B[1;32m    446\u001B[0m \n\u001B[1;32m    447\u001B[0m \u001B[38;5;124;03m    The connection is instrumented such that when its\u001B[39;00m\n\u001B[0;32m   (...)\u001B[0m\n\u001B[1;32m    450\u001B[0m \n\u001B[1;32m    451\u001B[0m \u001B[38;5;124;03m    \"\"\"\u001B[39;00m\n\u001B[0;32m--> 452\u001B[0m     \u001B[38;5;28;01mreturn\u001B[39;00m \u001B[43m_ConnectionFairy\u001B[49m\u001B[38;5;241;43m.\u001B[39;49m\u001B[43m_checkout\u001B[49m\u001B[43m(\u001B[49m\u001B[38;5;28;43mself\u001B[39;49m\u001B[43m)\u001B[49m\n",
      "File \u001B[0;32m/opt/homebrew/anaconda3/lib/python3.10/site-packages/sqlalchemy/pool/base.py:1268\u001B[0m, in \u001B[0;36m_ConnectionFairy._checkout\u001B[0;34m(cls, pool, threadconns, fairy)\u001B[0m\n\u001B[1;32m   1259\u001B[0m \u001B[38;5;129m@classmethod\u001B[39m\n\u001B[1;32m   1260\u001B[0m \u001B[38;5;28;01mdef\u001B[39;00m \u001B[38;5;21m_checkout\u001B[39m(\n\u001B[1;32m   1261\u001B[0m     \u001B[38;5;28mcls\u001B[39m,\n\u001B[0;32m   (...)\u001B[0m\n\u001B[1;32m   1264\u001B[0m     fairy: Optional[_ConnectionFairy] \u001B[38;5;241m=\u001B[39m \u001B[38;5;28;01mNone\u001B[39;00m,\n\u001B[1;32m   1265\u001B[0m ) \u001B[38;5;241m-\u001B[39m\u001B[38;5;241m>\u001B[39m _ConnectionFairy:\n\u001B[1;32m   1267\u001B[0m     \u001B[38;5;28;01mif\u001B[39;00m \u001B[38;5;129;01mnot\u001B[39;00m fairy:\n\u001B[0;32m-> 1268\u001B[0m         fairy \u001B[38;5;241m=\u001B[39m \u001B[43m_ConnectionRecord\u001B[49m\u001B[38;5;241;43m.\u001B[39;49m\u001B[43mcheckout\u001B[49m\u001B[43m(\u001B[49m\u001B[43mpool\u001B[49m\u001B[43m)\u001B[49m\n\u001B[1;32m   1270\u001B[0m         \u001B[38;5;28;01mif\u001B[39;00m threadconns \u001B[38;5;129;01mis\u001B[39;00m \u001B[38;5;129;01mnot\u001B[39;00m \u001B[38;5;28;01mNone\u001B[39;00m:\n\u001B[1;32m   1271\u001B[0m             threadconns\u001B[38;5;241m.\u001B[39mcurrent \u001B[38;5;241m=\u001B[39m weakref\u001B[38;5;241m.\u001B[39mref(fairy)\n",
      "File \u001B[0;32m/opt/homebrew/anaconda3/lib/python3.10/site-packages/sqlalchemy/pool/base.py:716\u001B[0m, in \u001B[0;36m_ConnectionRecord.checkout\u001B[0;34m(cls, pool)\u001B[0m\n\u001B[1;32m    714\u001B[0m     rec \u001B[38;5;241m=\u001B[39m cast(_ConnectionRecord, pool\u001B[38;5;241m.\u001B[39m_do_get())\n\u001B[1;32m    715\u001B[0m \u001B[38;5;28;01melse\u001B[39;00m:\n\u001B[0;32m--> 716\u001B[0m     rec \u001B[38;5;241m=\u001B[39m \u001B[43mpool\u001B[49m\u001B[38;5;241;43m.\u001B[39;49m\u001B[43m_do_get\u001B[49m\u001B[43m(\u001B[49m\u001B[43m)\u001B[49m\n\u001B[1;32m    718\u001B[0m \u001B[38;5;28;01mtry\u001B[39;00m:\n\u001B[1;32m    719\u001B[0m     dbapi_connection \u001B[38;5;241m=\u001B[39m rec\u001B[38;5;241m.\u001B[39mget_connection()\n",
      "File \u001B[0;32m/opt/homebrew/anaconda3/lib/python3.10/site-packages/sqlalchemy/pool/impl.py:168\u001B[0m, in \u001B[0;36mQueuePool._do_get\u001B[0;34m(self)\u001B[0m\n\u001B[1;32m    166\u001B[0m     \u001B[38;5;28;01mreturn\u001B[39;00m \u001B[38;5;28mself\u001B[39m\u001B[38;5;241m.\u001B[39m_create_connection()\n\u001B[1;32m    167\u001B[0m \u001B[38;5;28;01mexcept\u001B[39;00m:\n\u001B[0;32m--> 168\u001B[0m     \u001B[38;5;28;01mwith\u001B[39;00m util\u001B[38;5;241m.\u001B[39msafe_reraise():\n\u001B[1;32m    169\u001B[0m         \u001B[38;5;28mself\u001B[39m\u001B[38;5;241m.\u001B[39m_dec_overflow()\n\u001B[1;32m    170\u001B[0m     \u001B[38;5;28;01mraise\u001B[39;00m\n",
      "File \u001B[0;32m/opt/homebrew/anaconda3/lib/python3.10/site-packages/sqlalchemy/util/langhelpers.py:147\u001B[0m, in \u001B[0;36msafe_reraise.__exit__\u001B[0;34m(self, type_, value, traceback)\u001B[0m\n\u001B[1;32m    145\u001B[0m     \u001B[38;5;28;01massert\u001B[39;00m exc_value \u001B[38;5;129;01mis\u001B[39;00m \u001B[38;5;129;01mnot\u001B[39;00m \u001B[38;5;28;01mNone\u001B[39;00m\n\u001B[1;32m    146\u001B[0m     \u001B[38;5;28mself\u001B[39m\u001B[38;5;241m.\u001B[39m_exc_info \u001B[38;5;241m=\u001B[39m \u001B[38;5;28;01mNone\u001B[39;00m  \u001B[38;5;66;03m# remove potential circular references\u001B[39;00m\n\u001B[0;32m--> 147\u001B[0m     \u001B[38;5;28;01mraise\u001B[39;00m exc_value\u001B[38;5;241m.\u001B[39mwith_traceback(exc_tb)\n\u001B[1;32m    148\u001B[0m \u001B[38;5;28;01melse\u001B[39;00m:\n\u001B[1;32m    149\u001B[0m     \u001B[38;5;28mself\u001B[39m\u001B[38;5;241m.\u001B[39m_exc_info \u001B[38;5;241m=\u001B[39m \u001B[38;5;28;01mNone\u001B[39;00m  \u001B[38;5;66;03m# remove potential circular references\u001B[39;00m\n",
      "File \u001B[0;32m/opt/homebrew/anaconda3/lib/python3.10/site-packages/sqlalchemy/pool/impl.py:166\u001B[0m, in \u001B[0;36mQueuePool._do_get\u001B[0;34m(self)\u001B[0m\n\u001B[1;32m    164\u001B[0m \u001B[38;5;28;01mif\u001B[39;00m \u001B[38;5;28mself\u001B[39m\u001B[38;5;241m.\u001B[39m_inc_overflow():\n\u001B[1;32m    165\u001B[0m     \u001B[38;5;28;01mtry\u001B[39;00m:\n\u001B[0;32m--> 166\u001B[0m         \u001B[38;5;28;01mreturn\u001B[39;00m \u001B[38;5;28;43mself\u001B[39;49m\u001B[38;5;241;43m.\u001B[39;49m\u001B[43m_create_connection\u001B[49m\u001B[43m(\u001B[49m\u001B[43m)\u001B[49m\n\u001B[1;32m    167\u001B[0m     \u001B[38;5;28;01mexcept\u001B[39;00m:\n\u001B[1;32m    168\u001B[0m         \u001B[38;5;28;01mwith\u001B[39;00m util\u001B[38;5;241m.\u001B[39msafe_reraise():\n",
      "File \u001B[0;32m/opt/homebrew/anaconda3/lib/python3.10/site-packages/sqlalchemy/pool/base.py:393\u001B[0m, in \u001B[0;36mPool._create_connection\u001B[0;34m(self)\u001B[0m\n\u001B[1;32m    390\u001B[0m \u001B[38;5;28;01mdef\u001B[39;00m \u001B[38;5;21m_create_connection\u001B[39m(\u001B[38;5;28mself\u001B[39m) \u001B[38;5;241m-\u001B[39m\u001B[38;5;241m>\u001B[39m ConnectionPoolEntry:\n\u001B[1;32m    391\u001B[0m \u001B[38;5;250m    \u001B[39m\u001B[38;5;124;03m\"\"\"Called by subclasses to create a new ConnectionRecord.\"\"\"\u001B[39;00m\n\u001B[0;32m--> 393\u001B[0m     \u001B[38;5;28;01mreturn\u001B[39;00m \u001B[43m_ConnectionRecord\u001B[49m\u001B[43m(\u001B[49m\u001B[38;5;28;43mself\u001B[39;49m\u001B[43m)\u001B[49m\n",
      "File \u001B[0;32m/opt/homebrew/anaconda3/lib/python3.10/site-packages/sqlalchemy/pool/base.py:678\u001B[0m, in \u001B[0;36m_ConnectionRecord.__init__\u001B[0;34m(self, pool, connect)\u001B[0m\n\u001B[1;32m    676\u001B[0m \u001B[38;5;28mself\u001B[39m\u001B[38;5;241m.\u001B[39m__pool \u001B[38;5;241m=\u001B[39m pool\n\u001B[1;32m    677\u001B[0m \u001B[38;5;28;01mif\u001B[39;00m connect:\n\u001B[0;32m--> 678\u001B[0m     \u001B[38;5;28;43mself\u001B[39;49m\u001B[38;5;241;43m.\u001B[39;49m\u001B[43m__connect\u001B[49m\u001B[43m(\u001B[49m\u001B[43m)\u001B[49m\n\u001B[1;32m    679\u001B[0m \u001B[38;5;28mself\u001B[39m\u001B[38;5;241m.\u001B[39mfinalize_callback \u001B[38;5;241m=\u001B[39m deque()\n",
      "File \u001B[0;32m/opt/homebrew/anaconda3/lib/python3.10/site-packages/sqlalchemy/pool/base.py:902\u001B[0m, in \u001B[0;36m_ConnectionRecord.__connect\u001B[0;34m(self)\u001B[0m\n\u001B[1;32m    900\u001B[0m     \u001B[38;5;28mself\u001B[39m\u001B[38;5;241m.\u001B[39mfresh \u001B[38;5;241m=\u001B[39m \u001B[38;5;28;01mTrue\u001B[39;00m\n\u001B[1;32m    901\u001B[0m \u001B[38;5;28;01mexcept\u001B[39;00m \u001B[38;5;167;01mBaseException\u001B[39;00m \u001B[38;5;28;01mas\u001B[39;00m e:\n\u001B[0;32m--> 902\u001B[0m     \u001B[38;5;28;01mwith\u001B[39;00m util\u001B[38;5;241m.\u001B[39msafe_reraise():\n\u001B[1;32m    903\u001B[0m         pool\u001B[38;5;241m.\u001B[39mlogger\u001B[38;5;241m.\u001B[39mdebug(\u001B[38;5;124m\"\u001B[39m\u001B[38;5;124mError on connect(): \u001B[39m\u001B[38;5;132;01m%s\u001B[39;00m\u001B[38;5;124m\"\u001B[39m, e)\n\u001B[1;32m    904\u001B[0m \u001B[38;5;28;01melse\u001B[39;00m:\n\u001B[1;32m    905\u001B[0m     \u001B[38;5;66;03m# in SQLAlchemy 1.4 the first_connect event is not used by\u001B[39;00m\n\u001B[1;32m    906\u001B[0m     \u001B[38;5;66;03m# the engine, so this will usually not be set\u001B[39;00m\n",
      "File \u001B[0;32m/opt/homebrew/anaconda3/lib/python3.10/site-packages/sqlalchemy/util/langhelpers.py:147\u001B[0m, in \u001B[0;36msafe_reraise.__exit__\u001B[0;34m(self, type_, value, traceback)\u001B[0m\n\u001B[1;32m    145\u001B[0m     \u001B[38;5;28;01massert\u001B[39;00m exc_value \u001B[38;5;129;01mis\u001B[39;00m \u001B[38;5;129;01mnot\u001B[39;00m \u001B[38;5;28;01mNone\u001B[39;00m\n\u001B[1;32m    146\u001B[0m     \u001B[38;5;28mself\u001B[39m\u001B[38;5;241m.\u001B[39m_exc_info \u001B[38;5;241m=\u001B[39m \u001B[38;5;28;01mNone\u001B[39;00m  \u001B[38;5;66;03m# remove potential circular references\u001B[39;00m\n\u001B[0;32m--> 147\u001B[0m     \u001B[38;5;28;01mraise\u001B[39;00m exc_value\u001B[38;5;241m.\u001B[39mwith_traceback(exc_tb)\n\u001B[1;32m    148\u001B[0m \u001B[38;5;28;01melse\u001B[39;00m:\n\u001B[1;32m    149\u001B[0m     \u001B[38;5;28mself\u001B[39m\u001B[38;5;241m.\u001B[39m_exc_info \u001B[38;5;241m=\u001B[39m \u001B[38;5;28;01mNone\u001B[39;00m  \u001B[38;5;66;03m# remove potential circular references\u001B[39;00m\n",
      "File \u001B[0;32m/opt/homebrew/anaconda3/lib/python3.10/site-packages/sqlalchemy/pool/base.py:898\u001B[0m, in \u001B[0;36m_ConnectionRecord.__connect\u001B[0;34m(self)\u001B[0m\n\u001B[1;32m    896\u001B[0m \u001B[38;5;28;01mtry\u001B[39;00m:\n\u001B[1;32m    897\u001B[0m     \u001B[38;5;28mself\u001B[39m\u001B[38;5;241m.\u001B[39mstarttime \u001B[38;5;241m=\u001B[39m time\u001B[38;5;241m.\u001B[39mtime()\n\u001B[0;32m--> 898\u001B[0m     \u001B[38;5;28mself\u001B[39m\u001B[38;5;241m.\u001B[39mdbapi_connection \u001B[38;5;241m=\u001B[39m connection \u001B[38;5;241m=\u001B[39m \u001B[43mpool\u001B[49m\u001B[38;5;241;43m.\u001B[39;49m\u001B[43m_invoke_creator\u001B[49m\u001B[43m(\u001B[49m\u001B[38;5;28;43mself\u001B[39;49m\u001B[43m)\u001B[49m\n\u001B[1;32m    899\u001B[0m     pool\u001B[38;5;241m.\u001B[39mlogger\u001B[38;5;241m.\u001B[39mdebug(\u001B[38;5;124m\"\u001B[39m\u001B[38;5;124mCreated new connection \u001B[39m\u001B[38;5;132;01m%r\u001B[39;00m\u001B[38;5;124m\"\u001B[39m, connection)\n\u001B[1;32m    900\u001B[0m     \u001B[38;5;28mself\u001B[39m\u001B[38;5;241m.\u001B[39mfresh \u001B[38;5;241m=\u001B[39m \u001B[38;5;28;01mTrue\u001B[39;00m\n",
      "File \u001B[0;32m/opt/homebrew/anaconda3/lib/python3.10/site-packages/sqlalchemy/engine/create.py:637\u001B[0m, in \u001B[0;36mcreate_engine.<locals>.connect\u001B[0;34m(connection_record)\u001B[0m\n\u001B[1;32m    634\u001B[0m         \u001B[38;5;28;01mif\u001B[39;00m connection \u001B[38;5;129;01mis\u001B[39;00m \u001B[38;5;129;01mnot\u001B[39;00m \u001B[38;5;28;01mNone\u001B[39;00m:\n\u001B[1;32m    635\u001B[0m             \u001B[38;5;28;01mreturn\u001B[39;00m connection\n\u001B[0;32m--> 637\u001B[0m \u001B[38;5;28;01mreturn\u001B[39;00m \u001B[43mdialect\u001B[49m\u001B[38;5;241;43m.\u001B[39;49m\u001B[43mconnect\u001B[49m\u001B[43m(\u001B[49m\u001B[38;5;241;43m*\u001B[39;49m\u001B[43mcargs\u001B[49m\u001B[43m,\u001B[49m\u001B[43m \u001B[49m\u001B[38;5;241;43m*\u001B[39;49m\u001B[38;5;241;43m*\u001B[39;49m\u001B[43mcparams\u001B[49m\u001B[43m)\u001B[49m\n",
      "File \u001B[0;32m/opt/homebrew/anaconda3/lib/python3.10/site-packages/sqlalchemy/engine/default.py:616\u001B[0m, in \u001B[0;36mDefaultDialect.connect\u001B[0;34m(self, *cargs, **cparams)\u001B[0m\n\u001B[1;32m    614\u001B[0m \u001B[38;5;28;01mdef\u001B[39;00m \u001B[38;5;21mconnect\u001B[39m(\u001B[38;5;28mself\u001B[39m, \u001B[38;5;241m*\u001B[39mcargs, \u001B[38;5;241m*\u001B[39m\u001B[38;5;241m*\u001B[39mcparams):\n\u001B[1;32m    615\u001B[0m     \u001B[38;5;66;03m# inherits the docstring from interfaces.Dialect.connect\u001B[39;00m\n\u001B[0;32m--> 616\u001B[0m     \u001B[38;5;28;01mreturn\u001B[39;00m \u001B[38;5;28;43mself\u001B[39;49m\u001B[38;5;241;43m.\u001B[39;49m\u001B[43mloaded_dbapi\u001B[49m\u001B[38;5;241;43m.\u001B[39;49m\u001B[43mconnect\u001B[49m\u001B[43m(\u001B[49m\u001B[38;5;241;43m*\u001B[39;49m\u001B[43mcargs\u001B[49m\u001B[43m,\u001B[49m\u001B[43m \u001B[49m\u001B[38;5;241;43m*\u001B[39;49m\u001B[38;5;241;43m*\u001B[39;49m\u001B[43mcparams\u001B[49m\u001B[43m)\u001B[49m\n",
      "File \u001B[0;32m/opt/homebrew/anaconda3/lib/python3.10/site-packages/psycopg/connection.py:728\u001B[0m, in \u001B[0;36mConnection.connect\u001B[0;34m(cls, conninfo, autocommit, prepare_threshold, row_factory, cursor_factory, context, **kwargs)\u001B[0m\n\u001B[1;32m    723\u001B[0m     rv \u001B[38;5;241m=\u001B[39m \u001B[38;5;28mcls\u001B[39m\u001B[38;5;241m.\u001B[39m_wait_conn(\n\u001B[1;32m    724\u001B[0m         \u001B[38;5;28mcls\u001B[39m\u001B[38;5;241m.\u001B[39m_connect_gen(conninfo, autocommit\u001B[38;5;241m=\u001B[39mautocommit),\n\u001B[1;32m    725\u001B[0m         timeout\u001B[38;5;241m=\u001B[39mparams[\u001B[38;5;124m\"\u001B[39m\u001B[38;5;124mconnect_timeout\u001B[39m\u001B[38;5;124m\"\u001B[39m],\n\u001B[1;32m    726\u001B[0m     )\n\u001B[1;32m    727\u001B[0m \u001B[38;5;28;01mexcept\u001B[39;00m e\u001B[38;5;241m.\u001B[39m_NO_TRACEBACK \u001B[38;5;28;01mas\u001B[39;00m ex:\n\u001B[0;32m--> 728\u001B[0m     \u001B[38;5;28;01mraise\u001B[39;00m ex\u001B[38;5;241m.\u001B[39mwith_traceback(\u001B[38;5;28;01mNone\u001B[39;00m)\n\u001B[1;32m    730\u001B[0m \u001B[38;5;28;01mif\u001B[39;00m row_factory:\n\u001B[1;32m    731\u001B[0m     rv\u001B[38;5;241m.\u001B[39mrow_factory \u001B[38;5;241m=\u001B[39m row_factory\n",
      "\u001B[0;31mOperationalError\u001B[0m: (psycopg.OperationalError) connection failed: :1), port 5432 failed: Connection refused\n\tIs the server running on that host and accepting TCP/IP connections?\nconnection to server at \"localhost\" (127.0.0.1), port 5432 failed: Connection refused\n\tIs the server running on that host and accepting TCP/IP connections?\n(Background on this error at: https://sqlalche.me/e/20/e3q8)"
     ]
    }
   ],
   "source": [
    "metadata_engine = create_engine(POSTGRES_URL + \"postgres\")\n",
    "pd.read_sql(\n",
    "    f\"SELECT * FROM metadata.application_3\",\n",
    "    con=metadata_engine,\n",
    "    index_col=\"metric_id\",\n",
    ").loc[\"model_acc\"]"
   ],
   "metadata": {
    "collapsed": false,
    "ExecuteTime": {
     "end_time": "2023-06-12T22:50:26.158225Z",
     "start_time": "2023-06-12T22:50:25.089722Z"
    }
   }
  },
  {
   "cell_type": "code",
   "execution_count": 2,
   "outputs": [
    {
     "name": "stderr",
     "output_type": "stream",
     "text": [
      "23/06/13 19:35:38 WARN Utils: Your hostname, Chuhans-MacBook-Pro-M1.local resolves to a loopback address: 127.0.0.1; using 172.16.46.222 instead (on interface en0)\n",
      "23/06/13 19:35:38 WARN Utils: Set SPARK_LOCAL_IP if you need to bind to another address\n",
      "23/06/13 19:35:38 WARN NativeCodeLoader: Unable to load native-hadoop library for your platform... using builtin-java classes where applicable\n",
      "Setting default log level to \"WARN\".\n",
      "To adjust logging level use sc.setLogLevel(newLevel). For SparkR, use setLogLevel(newLevel).\n"
     ]
    },
    {
     "data": {
      "text/plain": "<pyspark.sql.session.SparkSession at 0x19019d960>",
      "text/html": "\n            <div>\n                <p><b>SparkSession - in-memory</b></p>\n                \n        <div>\n            <p><b>SparkContext</b></p>\n\n            <p><a href=\"http://172.16.46.222:4040\">Spark UI</a></p>\n\n            <dl>\n              <dt>Version</dt>\n                <dd><code>v3.4.0</code></dd>\n              <dt>Master</dt>\n                <dd><code>local[2]</code></dd>\n              <dt>AppName</dt>\n                <dd><code>pyspark-shell</code></dd>\n            </dl>\n        </div>\n        \n            </div>\n        "
     },
     "execution_count": 2,
     "metadata": {},
     "output_type": "execute_result"
    }
   ],
   "source": [
    "spark = (SparkSession.builder\n",
    "         .master(\"local[2]\")\n",
    "         .config(key=\"spark.sql.caseSensitive\", value=True)\n",
    "         .config(key=\"spark.sql.execution.arrow.pyspark.fallback.enabled\", value=True)\n",
    "         .config(key=\"spark.sql.execution.arrow.pyspark.enabled\", value=True)\n",
    "         .config(key=\"spark.sql.execution.arrow.pyspark.datetime64.enabled\", value=True)\n",
    "         .config(key=\"spark.jars\", value=\",\".join([\"./jar/postgresql-42.6.0.jar\",\n",
    "                                                   \"./jar/spark-3.3-bigquery-0.31.1.jar\"]))\n",
    "         .getOrCreate())\n",
    "spark"
   ],
   "metadata": {
    "collapsed": false,
    "ExecuteTime": {
     "end_time": "2023-06-13T23:35:40.375362Z",
     "start_time": "2023-06-13T23:35:37.335796Z"
    }
   }
  },
  {
   "cell_type": "code",
   "execution_count": 3,
   "outputs": [],
   "source": [
    "spark.conf.set('parentProject', 'healthy-earth-389717')\n",
    "spark.conf.set('temporaryGcsBucket', 'verizon-drift-monitoring')"
   ],
   "metadata": {
    "collapsed": false,
    "ExecuteTime": {
     "end_time": "2023-06-13T23:35:43.508945Z",
     "start_time": "2023-06-13T23:35:43.504335Z"
    }
   }
  },
  {
   "cell_type": "code",
   "execution_count": 5,
   "outputs": [],
   "source": [
    "dataset = (spark.read.format('bigquery')\n",
    "           .options(table='healthy-earth-389717:datasets.baseline_data_table')\n",
    "           .load())"
   ],
   "metadata": {
    "collapsed": false,
    "ExecuteTime": {
     "end_time": "2023-06-13T23:40:54.973033Z",
     "start_time": "2023-06-13T23:40:54.321465Z"
    }
   }
  },
  {
   "cell_type": "code",
   "execution_count": 6,
   "outputs": [
    {
     "name": "stderr",
     "output_type": "stream",
     "text": [
      "[Stage 0:>                                                          (0 + 1) / 1]\r"
     ]
    },
    {
     "name": "stdout",
     "output_type": "stream",
     "text": [
      "+--------------------+--------------------+--------------------+------------+--------------------+-----+--------------------+\n",
      "|           timestamp|                text|           input_ids|       score|     model_embedding|label|      attention_mask|\n",
      "+--------------------+--------------------+--------------------+------------+--------------------+-----+--------------------+\n",
      "|2023-06-06 13:32:...|Read the book, fo...|[101, 3191, 1996,...|0.0105520664|[-0.2706347108, 0...|    0|[1, 1, 1, 1, 1, 1...|\n",
      "|2023-06-06 13:32:...|Primary plot!Prim...|[101, 3078, 5436,...|0.0056580408|[-0.4939827323, 0...|    0|[1, 1, 1, 1, 1, 1...|\n",
      "|2023-06-06 13:32:...|What a script, wh...|[101, 2054, 1037,...|0.0069832215|[-0.2732478678, 0...|    0|[1, 1, 1, 1, 1, 1...|\n",
      "|2023-06-06 13:32:...|I hope this group...|[101, 1045, 3246,...|0.8780788779|[0.0013783015, 0....|    0|[1, 1, 1, 1, 1, 1...|\n",
      "|2023-06-06 13:32:...|More suspenseful,...|[101, 2062, 23873...|0.9632481337|[-0.3649832308, -...|    0|[1, 1, 1, 1, 1, 1...|\n",
      "|2023-06-06 13:32:...|Hated it with all...|[101, 6283, 2009,...|0.0041503282|[-0.1798865199, 0...|    0|[1, 1, 1, 1, 1, 1...|\n",
      "|2023-06-06 13:32:...|This is quite pos...|[101, 2023, 2003,...|0.0029738869|[-0.329398185, 0....|    0|[1, 1, 1, 1, 1, 1...|\n",
      "|2023-06-06 13:32:...|Ten minutes of pe...|[101, 2702, 2781,...|0.0084921094|[-0.0554186255, 0...|    0|[1, 1, 1, 1, 1, 1...|\n",
      "|2023-06-06 13:32:...|I caught this fil...|[101, 1045, 3236,...|0.0091896271|[-0.1779235303, 0...|    0|[1, 1, 1, 1, 1, 1...|\n",
      "|2023-06-06 13:32:...|My first thoughts...|[101, 2026, 2034,...|0.1602798551|[-0.7634217739, -...|    0|[1, 1, 1, 1, 1, 1...|\n",
      "|2023-06-06 13:32:...|This is a terribl...|[101, 2023, 2003,...|0.0053315959|[-0.1115087122, 0...|    0|[1, 1, 1, 1, 1, 1...|\n",
      "|2023-06-06 13:32:...|Widow hires a psy...|[101, 7794, 28208...|0.0078999661|[-0.4432305098, 0...|    0|[1, 1, 1, 1, 1, 1...|\n",
      "|2023-06-06 13:32:...|This movie was so...|[101, 2023, 3185,...|0.0078343982|[-0.3185939491, 0...|    0|[1, 1, 1, 1, 1, 1...|\n",
      "|2023-06-06 13:32:...|You've got to be ...|[101, 2017, 1005,...|0.0060186586|[0.0074789971, 0....|    0|[1, 1, 1, 1, 1, 1...|\n",
      "|2023-06-06 13:32:...|The plot was real...|[101, 1996, 5436,...|0.0220546909|[-0.656911552, 0....|    0|[1, 1, 1, 1, 1, 1...|\n",
      "|2023-06-06 13:32:...|This movie is ter...|[101, 2023, 3185,...|0.0048317984|[-0.1968819797, 0...|    0|[1, 1, 1, 1, 1, 1...|\n",
      "|2023-06-06 13:32:...|You may like Tim ...|[101, 2017, 2089,...|0.7355697155|[-0.4805308878, 0...|    0|[1, 1, 1, 1, 1, 1...|\n",
      "|2023-06-06 13:32:...|I had to see this...|[101, 1045, 2018,...|0.0041837888|[-0.2814665735, 0...|    0|[1, 1, 1, 1, 1, 1...|\n",
      "|2023-06-06 13:32:...|A dedicated Russi...|[101, 1037, 4056,...|0.0789795965|[-0.6727743745, 0...|    0|[1, 1, 1, 1, 1, 1...|\n",
      "|2023-06-06 13:32:...|This movie is a r...|[101, 2023, 3185,...|0.0038841092|[-0.3405873477, 0...|    0|[1, 1, 1, 1, 1, 1...|\n",
      "+--------------------+--------------------+--------------------+------------+--------------------+-----+--------------------+\n",
      "only showing top 20 rows\n",
      "\n"
     ]
    },
    {
     "name": "stderr",
     "output_type": "stream",
     "text": [
      "                                                                                \r"
     ]
    }
   ],
   "source": [
    "dataset.show()"
   ],
   "metadata": {
    "collapsed": false,
    "ExecuteTime": {
     "end_time": "2023-06-13T23:41:02.637941Z",
     "start_time": "2023-06-13T23:40:55.892964Z"
    }
   }
  },
  {
   "cell_type": "code",
   "execution_count": null,
   "outputs": [],
   "source": [],
   "metadata": {
    "collapsed": false
   }
  }
 ],
 "metadata": {
  "kernelspec": {
   "display_name": "Python 3",
   "language": "python",
   "name": "python3"
  },
  "language_info": {
   "codemirror_mode": {
    "name": "ipython",
    "version": 2
   },
   "file_extension": ".py",
   "mimetype": "text/x-python",
   "name": "python",
   "nbconvert_exporter": "python",
   "pygments_lexer": "ipython2",
   "version": "2.7.6"
  }
 },
 "nbformat": 4,
 "nbformat_minor": 0
}
