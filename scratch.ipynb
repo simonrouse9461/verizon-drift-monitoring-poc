{
 "cells": [
  {
   "cell_type": "code",
   "execution_count": 1,
   "metadata": {
    "collapsed": true,
    "ExecuteTime": {
     "end_time": "2023-07-05T06:32:01.192012Z",
     "start_time": "2023-07-05T06:32:01.179142Z"
    }
   },
   "outputs": [
    {
     "data": {
      "text/plain": "True"
     },
     "execution_count": 1,
     "metadata": {},
     "output_type": "execute_result"
    }
   ],
   "source": [
    "from src.metrics import MetricRegistry\n",
    "\n",
    "import dotenv\n",
    "dotenv.load_dotenv()\n",
    "\n",
    "import os\n",
    "import sys\n",
    "import pandas as pd\n",
    "from sqlalchemy import create_engine\n",
    "from pyspark.sql import SparkSession"
   ]
  },
  {
   "cell_type": "code",
   "execution_count": 2,
   "outputs": [],
   "source": [
    "POSTGRES_PASSWORD = os.environ[\"POSTGRES_PASSWORD\"]\n",
    "POSTGRES_USERNAME = \"postgres\"\n",
    "POSTGRES_HOSTNAME = \"localhost\"\n",
    "POSTGRES_PORT = \"5432\"\n",
    "POSTGRES_URL = f\"postgresql+psycopg://{POSTGRES_USERNAME}:{POSTGRES_PASSWORD}@{POSTGRES_HOSTNAME}:{POSTGRES_PORT}/\""
   ],
   "metadata": {
    "collapsed": false,
    "ExecuteTime": {
     "end_time": "2023-07-05T06:32:02.956987Z",
     "start_time": "2023-07-05T06:32:01.190377Z"
    }
   }
  },
  {
   "cell_type": "code",
   "execution_count": 3,
   "outputs": [
    {
     "data": {
      "text/plain": "'./spark_conf/standalone'"
     },
     "execution_count": 3,
     "metadata": {},
     "output_type": "execute_result"
    }
   ],
   "source": [
    "metadata_engine = create_engine(POSTGRES_URL + \"postgres\")\n",
    "pd.read_sql(\n",
    "    f\"SELECT * FROM metadata.application_3\",\n",
    "    con=metadata_engine,\n",
    "    index_col=\"metric_id\",\n",
    ").loc[\"model_acc\"]"
   ],
   "metadata": {
    "collapsed": false,
    "ExecuteTime": {
     "end_time": "2023-07-05T06:32:02.957239Z",
     "start_time": "2023-07-05T06:32:02.916992Z"
    }
   }
  },
  {
   "cell_type": "code",
   "execution_count": 4,
   "outputs": [
    {
     "name": "stderr",
     "output_type": "stream",
     "text": [
      "23/07/05 02:32:03 WARN Utils: Your hostname, Chuhans-MacBook-Pro-M1.local resolves to a loopback address: 127.0.0.1; using 172.16.46.222 instead (on interface en0)\n",
      "23/07/05 02:32:03 WARN Utils: Set SPARK_LOCAL_IP if you need to bind to another address\n",
      "23/07/05 02:32:04 WARN NativeCodeLoader: Unable to load native-hadoop library for your platform... using builtin-java classes where applicable\n",
      "Setting default log level to \"WARN\".\n",
      "To adjust logging level use sc.setLogLevel(newLevel). For SparkR, use setLogLevel(newLevel).\n"
     ]
    },
    {
     "data": {
      "text/plain": "<pyspark.sql.session.SparkSession at 0x140503400>",
      "text/html": "\n            <div>\n                <p><b>SparkSession - in-memory</b></p>\n                \n        <div>\n            <p><b>SparkContext</b></p>\n\n            <p><a href=\"http://172.16.46.222:4040\">Spark UI</a></p>\n\n            <dl>\n              <dt>Version</dt>\n                <dd><code>v3.4.1</code></dd>\n              <dt>Master</dt>\n                <dd><code>local[2]</code></dd>\n              <dt>AppName</dt>\n                <dd><code>pyspark-shell</code></dd>\n            </dl>\n        </div>\n        \n            </div>\n        "
     },
     "execution_count": 4,
     "metadata": {},
     "output_type": "execute_result"
    }
   ],
   "source": [
    "spark = (SparkSession.builder\n",
    "         .master(\"local[2]\")\n",
    "         .config(key=\"spark.sql.caseSensitive\", value=True)\n",
    "         .config(key=\"spark.sql.execution.arrow.pyspark.fallback.enabled\", value=True)\n",
    "         .config(key=\"spark.sql.execution.arrow.pyspark.enabled\", value=True)\n",
    "         .config(key=\"spark.sql.execution.arrow.pyspark.datetime64.enabled\", value=True)\n",
    "         .config(key=\"spark.jars\", value=\",\".join([\"./jar/postgresql-42.6.0.jar\",\n",
    "                                                   \"./jar/spark-3.3-bigquery-0.31.1.jar\"]))\n",
    "         .getOrCreate())\n",
    "spark"
   ],
   "metadata": {
    "collapsed": false,
    "ExecuteTime": {
     "end_time": "2023-07-05T06:32:05.373833Z",
     "start_time": "2023-07-05T06:32:02.920797Z"
    }
   }
  },
  {
   "cell_type": "code",
   "execution_count": 5,
   "outputs": [],
   "source": [
    "spark.conf.set('parentProject', 'healthy-earth-389717')\n",
    "spark.conf.set('temporaryGcsBucket', 'verizon-drift-monitoring')"
   ],
   "metadata": {
    "collapsed": false,
    "ExecuteTime": {
     "end_time": "2023-07-05T06:29:29.603972Z",
     "start_time": "2023-07-05T06:29:29.598840Z"
    }
   }
  },
  {
   "cell_type": "code",
   "execution_count": 5,
   "outputs": [],
   "source": [
    "dataset = (spark.read.format('bigquery')\n",
    "           .options(table='healthy-earth-389717:datasets.baseline_data_table')\n",
    "           .load())"
   ],
   "metadata": {
    "collapsed": false,
    "ExecuteTime": {
     "end_time": "2023-06-13T23:40:54.973033Z",
     "start_time": "2023-06-13T23:40:54.321465Z"
    }
   }
  },
  {
   "cell_type": "code",
   "execution_count": 6,
   "outputs": [
    {
     "name": "stderr",
     "output_type": "stream",
     "text": [
      "[Stage 0:>                                                          (0 + 1) / 1]\r"
     ]
    },
    {
     "name": "stdout",
     "output_type": "stream",
     "text": [
      "+--------------------+--------------------+--------------------+------------+--------------------+-----+--------------------+\n",
      "|           timestamp|                text|           input_ids|       score|     model_embedding|label|      attention_mask|\n",
      "+--------------------+--------------------+--------------------+------------+--------------------+-----+--------------------+\n",
      "|2023-06-06 13:32:...|Read the book, fo...|[101, 3191, 1996,...|0.0105520664|[-0.2706347108, 0...|    0|[1, 1, 1, 1, 1, 1...|\n",
      "|2023-06-06 13:32:...|Primary plot!Prim...|[101, 3078, 5436,...|0.0056580408|[-0.4939827323, 0...|    0|[1, 1, 1, 1, 1, 1...|\n",
      "|2023-06-06 13:32:...|What a script, wh...|[101, 2054, 1037,...|0.0069832215|[-0.2732478678, 0...|    0|[1, 1, 1, 1, 1, 1...|\n",
      "|2023-06-06 13:32:...|I hope this group...|[101, 1045, 3246,...|0.8780788779|[0.0013783015, 0....|    0|[1, 1, 1, 1, 1, 1...|\n",
      "|2023-06-06 13:32:...|More suspenseful,...|[101, 2062, 23873...|0.9632481337|[-0.3649832308, -...|    0|[1, 1, 1, 1, 1, 1...|\n",
      "|2023-06-06 13:32:...|Hated it with all...|[101, 6283, 2009,...|0.0041503282|[-0.1798865199, 0...|    0|[1, 1, 1, 1, 1, 1...|\n",
      "|2023-06-06 13:32:...|This is quite pos...|[101, 2023, 2003,...|0.0029738869|[-0.329398185, 0....|    0|[1, 1, 1, 1, 1, 1...|\n",
      "|2023-06-06 13:32:...|Ten minutes of pe...|[101, 2702, 2781,...|0.0084921094|[-0.0554186255, 0...|    0|[1, 1, 1, 1, 1, 1...|\n",
      "|2023-06-06 13:32:...|I caught this fil...|[101, 1045, 3236,...|0.0091896271|[-0.1779235303, 0...|    0|[1, 1, 1, 1, 1, 1...|\n",
      "|2023-06-06 13:32:...|My first thoughts...|[101, 2026, 2034,...|0.1602798551|[-0.7634217739, -...|    0|[1, 1, 1, 1, 1, 1...|\n",
      "|2023-06-06 13:32:...|This is a terribl...|[101, 2023, 2003,...|0.0053315959|[-0.1115087122, 0...|    0|[1, 1, 1, 1, 1, 1...|\n",
      "|2023-06-06 13:32:...|Widow hires a psy...|[101, 7794, 28208...|0.0078999661|[-0.4432305098, 0...|    0|[1, 1, 1, 1, 1, 1...|\n",
      "|2023-06-06 13:32:...|This movie was so...|[101, 2023, 3185,...|0.0078343982|[-0.3185939491, 0...|    0|[1, 1, 1, 1, 1, 1...|\n",
      "|2023-06-06 13:32:...|You've got to be ...|[101, 2017, 1005,...|0.0060186586|[0.0074789971, 0....|    0|[1, 1, 1, 1, 1, 1...|\n",
      "|2023-06-06 13:32:...|The plot was real...|[101, 1996, 5436,...|0.0220546909|[-0.656911552, 0....|    0|[1, 1, 1, 1, 1, 1...|\n",
      "|2023-06-06 13:32:...|This movie is ter...|[101, 2023, 3185,...|0.0048317984|[-0.1968819797, 0...|    0|[1, 1, 1, 1, 1, 1...|\n",
      "|2023-06-06 13:32:...|You may like Tim ...|[101, 2017, 2089,...|0.7355697155|[-0.4805308878, 0...|    0|[1, 1, 1, 1, 1, 1...|\n",
      "|2023-06-06 13:32:...|I had to see this...|[101, 1045, 2018,...|0.0041837888|[-0.2814665735, 0...|    0|[1, 1, 1, 1, 1, 1...|\n",
      "|2023-06-06 13:32:...|A dedicated Russi...|[101, 1037, 4056,...|0.0789795965|[-0.6727743745, 0...|    0|[1, 1, 1, 1, 1, 1...|\n",
      "|2023-06-06 13:32:...|This movie is a r...|[101, 2023, 3185,...|0.0038841092|[-0.3405873477, 0...|    0|[1, 1, 1, 1, 1, 1...|\n",
      "+--------------------+--------------------+--------------------+------------+--------------------+-----+--------------------+\n"
     ]
    },
    {
     "name": "stderr",
     "output_type": "stream",
     "text": [
      "                                                                                \r"
     ]
    }
   ],
   "source": [
    "dataset.show()"
   ],
   "metadata": {
    "collapsed": false,
    "ExecuteTime": {
     "end_time": "2023-06-13T23:41:02.637941Z",
     "start_time": "2023-06-13T23:40:55.892964Z"
    }
   }
  },
  {
   "cell_type": "code",
   "execution_count": null,
   "outputs": [],
   "source": [],
   "metadata": {
    "collapsed": false
   }
  }
 ],
 "metadata": {
  "kernelspec": {
   "display_name": "Python 3",
   "language": "python",
   "name": "python3"
  },
  "language_info": {
   "codemirror_mode": {
    "name": "ipython",
    "version": 2
   },
   "file_extension": ".py",
   "mimetype": "text/x-python",
   "name": "python",
   "nbconvert_exporter": "python",
   "pygments_lexer": "ipython2",
   "version": "2.7.6"
  }
 },
 "nbformat": 4,
 "nbformat_minor": 0
}
